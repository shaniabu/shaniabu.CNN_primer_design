{
 "cells": [
  {
   "cell_type": "code",
   "execution_count": 1,
   "id": "a3babb75",
   "metadata": {},
   "outputs": [
    {
     "name": "stdout",
     "output_type": "stream",
     "text": [
      "StratifiedKFold(n_splits=10, random_state=None, shuffle=True)\n"
     ]
    }
   ],
   "source": [
    "#argv[1]=total size\n",
    "#argv[2]=size of validation examples\n",
    "#argv[3]=number of folds 20 for 5% test, 10 for 10% test\n",
    "#from __future__ import print_function\n",
    "import numpy as np\n",
    "import os\n",
    "import sys\n",
    "import tarfile\n",
    "import math\n",
    "import random\n",
    "import sys\n",
    "from IPython.display import display, Image\n",
    "from scipy import ndimage\n",
    "#from funcCrossVal import *\n",
    "from funcCNN import *\n",
    "\n",
    "#def saveVectorInt(name,var):\n",
    "\t#np.savetxt(name, var, fmt='%i', delimiter=' ')\n",
    "\n",
    "dataFolder='../data/'\n",
    "\n",
    "size=840\n",
    "#size=int(sys.argv[1])\n",
    "\n",
    "from sklearn.model_selection import StratifiedKFold\n",
    "from pandas import read_csv\n",
    "\n",
    "labels = read_csv(dataFolder+\"labels.csv\", header=None, names=[\"labels\"]).values.ravel()\n",
    "\n",
    "#10 folds\n",
    "kf = StratifiedKFold(n_splits=10, shuffle=True)\n",
    "print(kf)\n",
    "\n",
    "tempA=[]\n",
    "for i in range (0,size):\n",
    "\ttempA.append(i)\n",
    "\n",
    "indexCrossVal=0\n",
    "for train_index, test_index in kf.split(tempA, labels):\n",
    "\tsaveVectorInt(str(indexCrossVal)+'test_index.txt',test_index)\n",
    "\tsaveVectorInt(str(indexCrossVal)+'trainVal_index.txt',train_index)\n",
    "\trandom.shuffle(train_index)\n",
    "\ttempVector=[]\n",
    "\tfor j in range (0,42):\n",
    "\t\ttempVector.append(train_index[j])\n",
    "\tsaveVectorInt(str(indexCrossVal)+'val_index.txt',tempVector)\n",
    "\ttempVector=[]\n",
    "\tfor j in range (42,len(train_index)):\n",
    "\t\ttempVector.append(train_index[j])\n",
    "\tsaveVectorInt(str(indexCrossVal)+'train_index.txt',tempVector)\n",
    "\tindexCrossVal=indexCrossVal+1;"
   ]
  },
  {
   "cell_type": "code",
   "execution_count": null,
   "id": "7df7e2c0",
   "metadata": {},
   "outputs": [],
   "source": []
  }
 ],
 "metadata": {
  "kernelspec": {
   "display_name": "Python 3 (ipykernel)",
   "language": "python",
   "name": "python3"
  },
  "language_info": {
   "codemirror_mode": {
    "name": "ipython",
    "version": 3
   },
   "file_extension": ".py",
   "mimetype": "text/x-python",
   "name": "python",
   "nbconvert_exporter": "python",
   "pygments_lexer": "ipython3",
   "version": "3.9.5"
  }
 },
 "nbformat": 4,
 "nbformat_minor": 5
}
