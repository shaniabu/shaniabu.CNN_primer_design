{
 "cells": [
  {
   "cell_type": "code",
   "execution_count": 1,
   "id": "68966e84",
   "metadata": {},
   "outputs": [
    {
     "name": "stdout",
     "output_type": "stream",
     "text": [
      "(840, 30818)\n",
      "(840, 30818)\n",
      "(840, 30818)\n",
      "(840, 30818)\n",
      "(840, 30818)\n",
      "(840, 30818)\n",
      "(840, 30818)\n",
      "(840, 30818)\n",
      "(840, 30818)\n",
      "(840, 30818)\n",
      "(840, 30818)\n",
      "(840, 30818)\n"
     ]
    }
   ],
   "source": [
    "import numpy as np\n",
    "import math\n",
    "import random\n",
    "import pandas as pd \n",
    "\n",
    "for filterIndex in range(0,12):\n",
    "\t\n",
    "\tdata = pd.read_csv(\"filter_\"+str(filterIndex)+\".csv\", header=None).values\n",
    "\tnumberWindows = 210\n",
    "\n",
    "\tsizeData=np.shape(data)\n",
    "\n",
    "\tprint(sizeData)\n",
    "\n",
    "\t#maxPool = np.zeros(shape=(sizeData[0],400))\n",
    "\tmaxPool = np.zeros(shape=(sizeData[0],numberWindows))\n",
    "\t#posPool = np.zeros(shape=(sizeData[0],400))\n",
    "\tposPool = np.zeros(shape=(sizeData[0],numberWindows))\n",
    "\n",
    "\n",
    "\n",
    "\tfor  i in range(0, sizeData[0]):\n",
    "\t\tmaxPool_windowSize = 148\n",
    "\t\tpad_left_HPool = 25\n",
    "\t\tmax = -1e6\n",
    "\t\tindex = pad_left_HPool\n",
    "\t\tposition = -1\n",
    "\t\tindexMax = 0\n",
    "\t\tfor j in range (0, sizeData[1]):\n",
    "\t\t\tif data[i][j]>max:\n",
    "\t\t\t\tmax=data[i][j]\n",
    "\t\t\t\tposition=j\n",
    "\t\t\tindex=index+1\n",
    "\t\t\tif (index == maxPool_windowSize) or (j == sizeData[1]-1):\n",
    "\t\t\t\tmaxPool[i][indexMax-1] = max\n",
    "\t\t\t\tposPool[i][indexMax] = position\n",
    "\t\t\t\tmax = -1e6\n",
    "\t\t\t\tposition = -1\n",
    "\t\t\t\tindex = 0\n",
    "\t\t\t\tindexMax=indexMax+1\n",
    "\n",
    "\t\t\t\t\n",
    "\tpd.DataFrame(maxPool).to_csv(\"maxPool_\"+str(filterIndex)+\".csv\", header=None, index =None)\n",
    "\tpd.DataFrame(posPool).to_csv(\"posPool_\"+str(filterIndex)+\".csv\", header=None, index =None)\t\t\t\t\n"
   ]
  },
  {
   "cell_type": "code",
   "execution_count": null,
   "id": "4237ce1f",
   "metadata": {},
   "outputs": [],
   "source": []
  }
 ],
 "metadata": {
  "kernelspec": {
   "display_name": "Python 3 (ipykernel)",
   "language": "python",
   "name": "python3"
  },
  "language_info": {
   "codemirror_mode": {
    "name": "ipython",
    "version": 3
   },
   "file_extension": ".py",
   "mimetype": "text/x-python",
   "name": "python",
   "nbconvert_exporter": "python",
   "pygments_lexer": "ipython3",
   "version": "3.9.5"
  }
 },
 "nbformat": 4,
 "nbformat_minor": 5
}
