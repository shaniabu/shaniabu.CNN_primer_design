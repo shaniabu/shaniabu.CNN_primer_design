{
 "cells": [
  {
   "cell_type": "code",
   "execution_count": 1,
   "id": "53fe9da1",
   "metadata": {},
   "outputs": [
    {
     "name": "stdout",
     "output_type": "stream",
     "text": [
      "840\n",
      "2148\n",
      "['ATGAGGCTGGTTCTAAATCAC']\n",
      "Repeated in the same sample: 1\n",
      "Non repeated in the same sample: 2147\n"
     ]
    }
   ],
   "source": [
    "import numpy as np\n",
    "import math\n",
    "import random\n",
    "import pandas as pd \n",
    "\n",
    "filterIndex=0\n",
    "vector = pd.read_csv(\"featsVector_\"+str(filterIndex)+\".csv\", header=None).values.ravel()\n",
    "sequences = pd.read_csv(\"../sequences.csv\", header=None).values.ravel()\n",
    "\n",
    "print(len(sequences))\n",
    "print(len(vector))\n",
    "\n",
    "sizeSeq=int(len(sequences))\n",
    "sizeVec=int(len(vector))\n",
    "\n",
    "freqMatrix = np.zeros((sizeSeq,sizeVec))\n",
    "\n",
    "for i in range (0,sizeSeq):\t\n",
    "\tfor j in range ( 0, sizeVec):\n",
    "\t\tif (vector[j] in sequences[i]):\n",
    "\t\t\tfreqMatrix[i][j]=sequences[i].count(vector[j])\n",
    "\t\telse:\n",
    "\t\t\tfreqMatrix[i][j]=0\n",
    "\n",
    "#pd.DataFrame(freqMatrix).to_csv(\"data_\"+str(filterIndex)+\".csv\", header=None, index =None)\n",
    "\n",
    "repeatedList=[]\n",
    "for i in range (0,sizeSeq):\t\n",
    "\tfor j in range ( 0, sizeVec):\n",
    "\t\tif (freqMatrix[i][j]>1):\n",
    "\t\t\tif(vector[j] not in repeatedList):\n",
    "\t\t\t\trepeatedList.append(vector[j])\n",
    "\n",
    "print(repeatedList)\n",
    "\n",
    "nonRepeatedList=[]\n",
    "for i in range ( 0, sizeVec):\n",
    "\tif (vector[i] not in repeatedList):\n",
    "\t\tnonRepeatedList.append(vector[i])\n",
    "\n",
    "print(\"Repeated in the same sample: \"+str(len(repeatedList)))\n",
    "print(\"Non repeated in the same sample: \"+str(len(nonRepeatedList)))\n",
    "\n",
    "\n",
    "sizeSeq=int(len(sequences))\n",
    "sizeVec=int(len(nonRepeatedList))\n",
    "\n",
    "freqMatrix = np.zeros((sizeSeq,sizeVec))\n",
    "\n",
    "for i in range (0,sizeSeq):\t\n",
    "\tfor j in range ( 0, sizeVec):\n",
    "\t\tif (nonRepeatedList[j] in sequences[i]):\n",
    "\t\t\tfreqMatrix[i][j]=sequences[i].count(nonRepeatedList[j])\n",
    "\t\telse:\n",
    "\t\t\tfreqMatrix[i][j]=0\n",
    "\t\t\t\n",
    "pd.DataFrame(nonRepeatedList).to_csv(\"features_\"+str(filterIndex)+\".csv\", header=None, index =None)\n",
    "pd.DataFrame(freqMatrix).to_csv(\"data_\"+str(filterIndex)+\".csv\", header=None, index =None)\n"
   ]
  },
  {
   "cell_type": "code",
   "execution_count": null,
   "id": "a3f495f2",
   "metadata": {},
   "outputs": [],
   "source": []
  }
 ],
 "metadata": {
  "kernelspec": {
   "display_name": "Python 3 (ipykernel)",
   "language": "python",
   "name": "python3"
  },
  "language_info": {
   "codemirror_mode": {
    "name": "ipython",
    "version": 3
   },
   "file_extension": ".py",
   "mimetype": "text/x-python",
   "name": "python",
   "nbconvert_exporter": "python",
   "pygments_lexer": "ipython3",
   "version": "3.9.5"
  }
 },
 "nbformat": 4,
 "nbformat_minor": 5
}
